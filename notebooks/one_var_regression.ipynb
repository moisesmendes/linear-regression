{
 "cells": [
  {
   "cell_type": "markdown",
   "metadata": {},
   "source": [
    "# One variable regression"
   ]
  },
  {
   "cell_type": "markdown",
   "metadata": {},
   "source": [
    "## Imports"
   ]
  },
  {
   "cell_type": "code",
   "execution_count": 1,
   "metadata": {},
   "outputs": [],
   "source": [
    "import sys\n",
    "sys.path.append(\"../\")  # append the parent directory"
   ]
  },
  {
   "cell_type": "code",
   "execution_count": 2,
   "metadata": {},
   "outputs": [],
   "source": [
    "from pathlib import Path\n",
    "import numpy as np\n",
    "import matplotlib.pyplot as plt\n",
    "\n",
    "from src.cost_function import quadratic_error\n",
    "from src.optimizer import GradientDescent\n",
    "from src.preprocess import feature_normalize, add_intercept_term, shuffle, train_test_split"
   ]
  },
  {
   "cell_type": "markdown",
   "metadata": {},
   "source": [
    "## Loading data"
   ]
  },
  {
   "cell_type": "code",
   "execution_count": 3,
   "metadata": {},
   "outputs": [
    {
     "name": "stdout",
     "output_type": "stream",
     "text": [
      "<class 'numpy.ndarray'> (97, 2)\n"
     ]
    }
   ],
   "source": [
    "file_path = \"data/one_var_house_data.txt\"\n",
    "file = Path(Path.cwd()).parent / file_path\n",
    "\n",
    "with open(file) as fp:\n",
    "    data = np.genfromtxt(fp, delimiter=',')\n",
    "    \n",
    "print(type(data), data.shape)"
   ]
  },
  {
   "cell_type": "code",
   "execution_count": 4,
   "metadata": {},
   "outputs": [
    {
     "name": "stdout",
     "output_type": "stream",
     "text": [
      "(97,) (97,)\n"
     ]
    }
   ],
   "source": [
    "X = data[:, 0]\n",
    "y = data[:, 1]\n",
    "print(X.shape, y.shape)"
   ]
  },
  {
   "cell_type": "markdown",
   "metadata": {},
   "source": [
    "## Shaping data"
   ]
  },
  {
   "cell_type": "code",
   "execution_count": 5,
   "metadata": {},
   "outputs": [
    {
     "name": "stdout",
     "output_type": "stream",
     "text": [
      "(97, 1) (97, 1)\n"
     ]
    }
   ],
   "source": [
    "m = data.shape[0]\n",
    "n = data.shape[1] - 1\n",
    "\n",
    "X = X.reshape((m, n))\n",
    "y = y.reshape((m, 1))\n",
    "print(X.shape, y.shape)"
   ]
  },
  {
   "cell_type": "markdown",
   "metadata": {},
   "source": [
    "## Preprocessing data"
   ]
  },
  {
   "cell_type": "code",
   "execution_count": 6,
   "metadata": {},
   "outputs": [
    {
     "name": "stdout",
     "output_type": "stream",
     "text": [
      "(97, 1) 8.159799999999999 3.8498839959227156\n"
     ]
    }
   ],
   "source": [
    "X, mean, std = feature_normalize(X)\n",
    "print(X.shape, mean, std)"
   ]
  },
  {
   "cell_type": "code",
   "execution_count": 7,
   "metadata": {},
   "outputs": [
    {
     "data": {
      "text/plain": [
       "(97, 2)"
      ]
     },
     "execution_count": 7,
     "metadata": {},
     "output_type": "execute_result"
    }
   ],
   "source": [
    "# adding intercept term\n",
    "X = add_intercept_term(X)\n",
    "X.shape"
   ]
  },
  {
   "cell_type": "code",
   "execution_count": 8,
   "metadata": {},
   "outputs": [
    {
     "data": {
      "text/plain": [
       "array([[ 1.        , -0.53240565],\n",
       "       [ 1.        , -0.68368294],\n",
       "       [ 1.        ,  0.09319761],\n",
       "       [ 1.        , -0.30042464],\n",
       "       [ 1.        , -0.5974206 ]])"
      ]
     },
     "execution_count": 8,
     "metadata": {},
     "output_type": "execute_result"
    }
   ],
   "source": [
    "X[:5, :]"
   ]
  },
  {
   "cell_type": "code",
   "execution_count": 9,
   "metadata": {},
   "outputs": [
    {
     "data": {
      "text/plain": [
       "array([[17.592 ],\n",
       "       [ 9.1302],\n",
       "       [13.662 ],\n",
       "       [11.854 ],\n",
       "       [ 6.8233]])"
      ]
     },
     "execution_count": 9,
     "metadata": {},
     "output_type": "execute_result"
    }
   ],
   "source": [
    "y[:5]"
   ]
  },
  {
   "cell_type": "markdown",
   "metadata": {},
   "source": [
    "## Regression using Gradient Descent"
   ]
  },
  {
   "cell_type": "code",
   "execution_count": 10,
   "metadata": {},
   "outputs": [
    {
     "data": {
      "text/plain": [
       "array([[0.],\n",
       "       [0.]])"
      ]
     },
     "execution_count": 10,
     "metadata": {},
     "output_type": "execute_result"
    }
   ],
   "source": [
    "theta = np.zeros((n+1, 1))  # regression parameter\n",
    "theta"
   ]
  },
  {
   "cell_type": "code",
   "execution_count": 11,
   "metadata": {},
   "outputs": [
    {
     "data": {
      "text/plain": [
       "{'alpha': 0.01, 'max_iter': 1000, 'tolerance': 1e-08}"
      ]
     },
     "execution_count": 11,
     "metadata": {},
     "output_type": "execute_result"
    }
   ],
   "source": [
    "# setting learning rate (alpha), maximum iterations (max_iter) and tolerance for optimization\n",
    "grad_desc = GradientDescent(alpha=1e-2, max_iter=1000, tolerance=1e-8)\n",
    "grad_desc.__dict__"
   ]
  },
  {
   "cell_type": "code",
   "execution_count": 12,
   "metadata": {},
   "outputs": [
    {
     "name": "stdout",
     "output_type": "stream",
     "text": [
      "stop by tolerance criteria: -9.920435140031714e-09 < 1e-08\n",
      "End of optimize: iter 889 - cost [[4.47697186]] - theta [[5.83836586 4.59243609]]\n"
     ]
    }
   ],
   "source": [
    "final_theta, cost_hist = grad_desc.optimize(X, y, theta, cost_function=quadratic_error)"
   ]
  },
  {
   "cell_type": "markdown",
   "metadata": {},
   "source": [
    "## Plotting"
   ]
  },
  {
   "cell_type": "code",
   "execution_count": 13,
   "metadata": {},
   "outputs": [
    {
     "data": {
      "image/png": "[encoded data removed]",
      "text/plain": [
       "<Figure size 720x360 with 1 Axes>"
      ]
     },
     "metadata": {
      "needs_background": "light"
     },
     "output_type": "display_data"
    }
   ],
   "source": [
    "plt.figure(figsize=(10, 5))\n",
    "plt.plot(np.arange(cost_hist.shape[0]), cost_hist)\n",
    "plt.title(\"Cost Function\")\n",
    "plt.xlabel(\"Iterations\")\n",
    "plt.show()"
   ]
  },
  {
   "cell_type": "code",
   "execution_count": 14,
   "metadata": {},
   "outputs": [
    {
     "data": {
      "image/png": "[encoded data removed]",
      "text/plain": [
       "<Figure size 720x360 with 1 Axes>"
      ]
     },
     "metadata": {
      "needs_background": "light"
     },
     "output_type": "display_data"
    }
   ],
   "source": [
    "prediction_line = np.dot(X, final_theta)\n",
    "\n",
    "plt.figure(figsize=(10, 5))\n",
    "plt.plot(X[:, 1], y, 'o')\n",
    "plt.plot(X[:, 1], prediction_line, '-')\n",
    "plt.xlabel(\"Population of city in 10,000s\")\n",
    "plt.ylabel(\"Profit in $10,000s\")\n",
    "plt.legend((\"Training data\", \"Linear regression\"))\n",
    "plt.title(\"Linear Regression\")\n",
    "plt.show()"
   ]
  },
  {
   "cell_type": "markdown",
   "metadata": {},
   "source": [
    "# Using training and validation data"
   ]
  },
  {
   "cell_type": "code",
   "execution_count": 15,
   "metadata": {},
   "outputs": [],
   "source": [
    "# splitting into training and validation randomly\n",
    "X, y = shuffle(X, y)\n",
    "x_train, y_train, x_val, y_val = train_test_split(X, y, ratio=0.8)"
   ]
  },
  {
   "cell_type": "code",
   "execution_count": 16,
   "metadata": {},
   "outputs": [
    {
     "name": "stdout",
     "output_type": "stream",
     "text": [
      "(78, 2) (78, 1) (19, 2) (19, 1)\n"
     ]
    }
   ],
   "source": [
    "print(x_train.shape, y_train.shape, x_val.shape, y_val.shape)"
   ]
  },
  {
   "cell_type": "code",
   "execution_count": 17,
   "metadata": {},
   "outputs": [
    {
     "data": {
      "text/plain": [
       "array([[ 1.        , -0.70726806],\n",
       "       [ 1.        , -0.16135551],\n",
       "       [ 1.        , -0.08704158],\n",
       "       [ 1.        , -0.40790839],\n",
       "       [ 1.        ,  3.16404339]])"
      ]
     },
     "execution_count": 17,
     "metadata": {},
     "output_type": "execute_result"
    }
   ],
   "source": [
    "x_train[:5, :]"
   ]
  },
  {
   "cell_type": "code",
   "execution_count": 18,
   "metadata": {},
   "outputs": [
    {
     "data": {
      "text/plain": [
       "array([[ 0.61705],\n",
       "       [ 3.8845 ],\n",
       "       [ 6.7318 ],\n",
       "       [ 5.9966 ],\n",
       "       [20.992  ]])"
      ]
     },
     "execution_count": 18,
     "metadata": {},
     "output_type": "execute_result"
    }
   ],
   "source": [
    "y_train[:5]"
   ]
  },
  {
   "cell_type": "markdown",
   "metadata": {},
   "source": [
    "## Regression using Gradient Descent"
   ]
  },
  {
   "cell_type": "code",
   "execution_count": 19,
   "metadata": {},
   "outputs": [
    {
     "data": {
      "text/plain": [
       "array([[0.],\n",
       "       [0.]])"
      ]
     },
     "execution_count": 19,
     "metadata": {},
     "output_type": "execute_result"
    }
   ],
   "source": [
    "theta = np.zeros((n+1, 1))  # regression parameter\n",
    "theta"
   ]
  },
  {
   "cell_type": "code",
   "execution_count": 20,
   "metadata": {},
   "outputs": [
    {
     "data": {
      "text/plain": [
       "{'alpha': 0.01, 'max_iter': 1000, 'tolerance': 1e-08}"
      ]
     },
     "execution_count": 20,
     "metadata": {},
     "output_type": "execute_result"
    }
   ],
   "source": [
    "# setting learning rate (alpha), maximum iterations (max_iter) and tolerance for optimization\n",
    "grad_desc = GradientDescent(alpha=1e-2, max_iter=1000, tolerance=1e-8)\n",
    "grad_desc.__dict__"
   ]
  },
  {
   "cell_type": "code",
   "execution_count": 21,
   "metadata": {},
   "outputs": [
    {
     "name": "stdout",
     "output_type": "stream",
     "text": [
      "stop by tolerance criteria: -9.902479725099056e-09 < 1e-08\n",
      "End of optimize: iter 857 - train cost 4.315357199006711 / val cost: 5.186120995307249\n",
      "- theta [[5.96302785 4.6435268 ]]\n"
     ]
    }
   ],
   "source": [
    "result = grad_desc.optimize_with_validation(x_train, y_train, \n",
    "                                            x_val, y_val, \n",
    "                                            theta, \n",
    "                                            cost_function=quadratic_error)\n",
    "final_theta, train_cost, val_cost = result"
   ]
  },
  {
   "cell_type": "markdown",
   "metadata": {},
   "source": [
    "## Plotting"
   ]
  },
  {
   "cell_type": "code",
   "execution_count": 22,
   "metadata": {},
   "outputs": [
    {
     "data": {
      "image/png": "[encoded data removed]",
      "text/plain": [
       "<Figure size 720x360 with 1 Axes>"
      ]
     },
     "metadata": {
      "needs_background": "light"
     },
     "output_type": "display_data"
    }
   ],
   "source": [
    "plt.figure(figsize=(10, 5))\n",
    "plt.plot(np.arange(train_cost.shape[0]), train_cost, val_cost)\n",
    "plt.title(\"Cost Function\")\n",
    "plt.xlabel(\"Iterations\")\n",
    "plt.ylabel(\"Mean Squared Error\")\n",
    "plt.legend([\"Training error\", \"Validation error\"])\n",
    "plt.show()"
   ]
  },
  {
   "cell_type": "code",
   "execution_count": 23,
   "metadata": {},
   "outputs": [
    {
     "data": {
      "image/png": "[encoded data removed]",
      "text/plain": [
       "<Figure size 720x360 with 1 Axes>"
      ]
     },
     "metadata": {
      "needs_background": "light"
     },
     "output_type": "display_data"
    }
   ],
   "source": [
    "prediction_line = np.dot(X, final_theta)\n",
    "\n",
    "plt.figure(figsize=(10, 5))\n",
    "plt.plot(x_train[:, 1], y_train, 'go')\n",
    "plt.plot(x_val[:, 1], y_val, 'ro')\n",
    "plt.plot(X[:, 1], prediction_line, '-')\n",
    "plt.xlabel(\"Population of city in 10,000s\")\n",
    "plt.ylabel(\"Profit in $10,000s\")\n",
    "plt.legend((\"Training data\", \"Validation data\",\"Linear regression\"))\n",
    "plt.title(\"Linear Regression\")\n",
    "plt.show()"
   ]
  },
  {
   "cell_type": "markdown",
   "metadata": {},
   "source": [
    "### Training vs Validation\n",
    "\n",
    "Even though linear regression finds the best line if gradient descent has enough iterations, \n",
    "the concepts of *training* and *validation* data are important to other Machine Learning algorithms,\n",
    "especially more complex ones, such as deep neural networks."
   ]
  }
 ],
 "metadata": {
  "kernelspec": {
   "display_name": "venv",
   "language": "python",
   "name": "venv"
  },
  "language_info": {
   "codemirror_mode": {
    "name": "ipython",
    "version": 3
   },
   "file_extension": ".py",
   "mimetype": "text/x-python",
   "name": "python",
   "nbconvert_exporter": "python",
   "pygments_lexer": "ipython3",
   "version": "3.8.2"
  }
 },
 "nbformat": 4,
 "nbformat_minor": 4
}
